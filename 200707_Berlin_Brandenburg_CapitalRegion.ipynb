{
  "nbformat": 4,
  "nbformat_minor": 0,
  "metadata": {
    "colab": {
      "name": "200707_Berlin-Brandenburg-CapitalRegion.ipynb",
      "provenance": [],
      "toc_visible": true,
      "authorship_tag": "ABX9TyP6jy249mP6K4drUviDe2HD",
      "include_colab_link": true
    },
    "kernelspec": {
      "name": "python3",
      "display_name": "Python 3"
    }
  },
  "cells": [
    {
      "cell_type": "markdown",
      "metadata": {
        "id": "view-in-github",
        "colab_type": "text"
      },
      "source": [
        "<a href=\"https://colab.research.google.com/github/franziskaschmidt1993/Analyse_Quartiersentwicklungsprojekte_Gesundheit/blob/master/200707_Berlin_Brandenburg_CapitalRegion.ipynb\" target=\"_parent\"><img src=\"https://colab.research.google.com/assets/colab-badge.svg\" alt=\"Open In Colab\"/></a>"
      ]
    },
    {
      "cell_type": "markdown",
      "metadata": {
        "id": "t4UPZZw54fAP",
        "colab_type": "text"
      },
      "source": [
        "## **Topic: growth of the \"Capital Region\" Berlin-Brandenburg**\n",
        "\n"
      ]
    },
    {
      "cell_type": "markdown",
      "metadata": {
        "id": "UgoCMV0gwMLL",
        "colab_type": "text"
      },
      "source": [
        "## Introduction\n",
        "\n",
        "The German capital Berlin and it's surrounding state Brandenburg have always had a close connection in terms of economy, infrastructure, labour market, housing market and other supplies. As a consequence of the region's rich history and close relation, a merger of the two states was attempted in 1996. However, it was rejected in a referendum by the populations of the two states. Since then, the connections are still close, especially in terms of labour market and housing market. Many people live in Brandenburg and work in Berlin and vice versa. The region's coordination is regulated by the joint state planning of Berlin and Brandenburg (Gemeinsame Landesplanung Berlin Brandenburg).\n",
        "\n",
        "One of the main concerns of this coordination office is the planning of the different areas with the help of the „Landesentwicklungsplan Hauptstadtregion Berlin-Brandenburg“ ([Regional Development Plan of the Capital Region Berlin-Brandenburg](https://gl.berlin-brandenburg.de/landesplanung/landesentwicklungsplaene/lep-hr/)) A big challenge for the plan is the fact that some areas are growing, others are shrinking. These disparities must be taken into account. \n",
        "\n",
        "Therefore, this visualization project seeks to compare the growth of the different parts of the Capital Region. The question is to be answered to what extent spatial location and growth or shrinkage have a connection.\n",
        "\n",
        " "
      ]
    },
    {
      "cell_type": "markdown",
      "metadata": {
        "id": "ScJNwvMLy_vu",
        "colab_type": "text"
      },
      "source": [
        "# Data Sources and Data Cleaning\n",
        "\n",
        "The Amt für Statistik Berlin-Brandenburg (joint statistical office of city state Berlin and area state Brandenburg) provides open data for different administrative levels on many core topics. They are mostly periodically issued (pdf or excel-files). Therefore, if one wants to look at a time series of data, one has to merge the annual data in excel. As the community ids and the administrative levels can differ from year to year, some data cleaning/wrangling is needed. Some knowledge on adminstrative levels in Berlin and Brandenburg is handy as well, to set the administrative levels (see xxx) right). (Links!)\n",
        "\n",
        "The data sets I used for this dossier (processed and merged into one excel file):\n",
        "*  [population status in Berlin and Brandenburg (states, districts, municipalitie, boroughs. Available 2005-2018)](https://www.statistik-berlin-brandenburg.de/grundlagen/Bev-stand.asp?Ptyp=50&Sageb=12015&creg=BBB&anzwer=6)\n",
        "\n"
      ]
    },
    {
      "cell_type": "markdown",
      "metadata": {
        "id": "bSnTD3SCkvFw",
        "colab_type": "text"
      },
      "source": [
        "# Preparing the Data Frame"
      ]
    },
    {
      "cell_type": "markdown",
      "metadata": {
        "id": "LJRpTFatyQ5M",
        "colab_type": "text"
      },
      "source": [
        "## Preparation and Uploading the DataSet containing demographic statistics\n",
        "\n",
        "The prepared data sheet is uploaded in Google Colab and all important packages are imported"
      ]
    },
    {
      "cell_type": "markdown",
      "metadata": {
        "id": "w2EwjSI3ktep",
        "colab_type": "text"
      },
      "source": [
        ""
      ]
    },
    {
      "cell_type": "code",
      "metadata": {
        "id": "FCYwsMDX0zPF",
        "colab_type": "code",
        "colab": {
          "resources": {
            "http://localhost:8080/nbextensions/google.colab/files.js": {
              "data": "Ly8gQ29weXJpZ2h0IDIwMTcgR29vZ2xlIExMQwovLwovLyBMaWNlbnNlZCB1bmRlciB0aGUgQXBhY2hlIExpY2Vuc2UsIFZlcnNpb24gMi4wICh0aGUgIkxpY2Vuc2UiKTsKLy8geW91IG1heSBub3QgdXNlIHRoaXMgZmlsZSBleGNlcHQgaW4gY29tcGxpYW5jZSB3aXRoIHRoZSBMaWNlbnNlLgovLyBZb3UgbWF5IG9idGFpbiBhIGNvcHkgb2YgdGhlIExpY2Vuc2UgYXQKLy8KLy8gICAgICBodHRwOi8vd3d3LmFwYWNoZS5vcmcvbGljZW5zZXMvTElDRU5TRS0yLjAKLy8KLy8gVW5sZXNzIHJlcXVpcmVkIGJ5IGFwcGxpY2FibGUgbGF3IG9yIGFncmVlZCB0byBpbiB3cml0aW5nLCBzb2Z0d2FyZQovLyBkaXN0cmlidXRlZCB1bmRlciB0aGUgTGljZW5zZSBpcyBkaXN0cmlidXRlZCBvbiBhbiAiQVMgSVMiIEJBU0lTLAovLyBXSVRIT1VUIFdBUlJBTlRJRVMgT1IgQ09ORElUSU9OUyBPRiBBTlkgS0lORCwgZWl0aGVyIGV4cHJlc3Mgb3IgaW1wbGllZC4KLy8gU2VlIHRoZSBMaWNlbnNlIGZvciB0aGUgc3BlY2lmaWMgbGFuZ3VhZ2UgZ292ZXJuaW5nIHBlcm1pc3Npb25zIGFuZAovLyBsaW1pdGF0aW9ucyB1bmRlciB0aGUgTGljZW5zZS4KCi8qKgogKiBAZmlsZW92ZXJ2aWV3IEhlbHBlcnMgZm9yIGdvb2dsZS5jb2xhYiBQeXRob24gbW9kdWxlLgogKi8KKGZ1bmN0aW9uKHNjb3BlKSB7CmZ1bmN0aW9uIHNwYW4odGV4dCwgc3R5bGVBdHRyaWJ1dGVzID0ge30pIHsKICBjb25zdCBlbGVtZW50ID0gZG9jdW1lbnQuY3JlYXRlRWxlbWVudCgnc3BhbicpOwogIGVsZW1lbnQudGV4dENvbnRlbnQgPSB0ZXh0OwogIGZvciAoY29uc3Qga2V5IG9mIE9iamVjdC5rZXlzKHN0eWxlQXR0cmlidXRlcykpIHsKICAgIGVsZW1lbnQuc3R5bGVba2V5XSA9IHN0eWxlQXR0cmlidXRlc1trZXldOwogIH0KICByZXR1cm4gZWxlbWVudDsKfQoKLy8gTWF4IG51bWJlciBvZiBieXRlcyB3aGljaCB3aWxsIGJlIHVwbG9hZGVkIGF0IGEgdGltZS4KY29uc3QgTUFYX1BBWUxPQURfU0laRSA9IDEwMCAqIDEwMjQ7CgpmdW5jdGlvbiBfdXBsb2FkRmlsZXMoaW5wdXRJZCwgb3V0cHV0SWQpIHsKICBjb25zdCBzdGVwcyA9IHVwbG9hZEZpbGVzU3RlcChpbnB1dElkLCBvdXRwdXRJZCk7CiAgY29uc3Qgb3V0cHV0RWxlbWVudCA9IGRvY3VtZW50LmdldEVsZW1lbnRCeUlkKG91dHB1dElkKTsKICAvLyBDYWNoZSBzdGVwcyBvbiB0aGUgb3V0cHV0RWxlbWVudCB0byBtYWtlIGl0IGF2YWlsYWJsZSBmb3IgdGhlIG5leHQgY2FsbAogIC8vIHRvIHVwbG9hZEZpbGVzQ29udGludWUgZnJvbSBQeXRob24uCiAgb3V0cHV0RWxlbWVudC5zdGVwcyA9IHN0ZXBzOwoKICByZXR1cm4gX3VwbG9hZEZpbGVzQ29udGludWUob3V0cHV0SWQpOwp9CgovLyBUaGlzIGlzIHJvdWdobHkgYW4gYXN5bmMgZ2VuZXJhdG9yIChub3Qgc3VwcG9ydGVkIGluIHRoZSBicm93c2VyIHlldCksCi8vIHdoZXJlIHRoZXJlIGFyZSBtdWx0aXBsZSBhc3luY2hyb25vdXMgc3RlcHMgYW5kIHRoZSBQeXRob24gc2lkZSBpcyBnb2luZwovLyB0byBwb2xsIGZvciBjb21wbGV0aW9uIG9mIGVhY2ggc3RlcC4KLy8gVGhpcyB1c2VzIGEgUHJvbWlzZSB0byBibG9jayB0aGUgcHl0aG9uIHNpZGUgb24gY29tcGxldGlvbiBvZiBlYWNoIHN0ZXAsCi8vIHRoZW4gcGFzc2VzIHRoZSByZXN1bHQgb2YgdGhlIHByZXZpb3VzIHN0ZXAgYXMgdGhlIGlucHV0IHRvIHRoZSBuZXh0IHN0ZXAuCmZ1bmN0aW9uIF91cGxvYWRGaWxlc0NvbnRpbnVlKG91dHB1dElkKSB7CiAgY29uc3Qgb3V0cHV0RWxlbWVudCA9IGRvY3VtZW50LmdldEVsZW1lbnRCeUlkKG91dHB1dElkKTsKICBjb25zdCBzdGVwcyA9IG91dHB1dEVsZW1lbnQuc3RlcHM7CgogIGNvbnN0IG5leHQgPSBzdGVwcy5uZXh0KG91dHB1dEVsZW1lbnQubGFzdFByb21pc2VWYWx1ZSk7CiAgcmV0dXJuIFByb21pc2UucmVzb2x2ZShuZXh0LnZhbHVlLnByb21pc2UpLnRoZW4oKHZhbHVlKSA9PiB7CiAgICAvLyBDYWNoZSB0aGUgbGFzdCBwcm9taXNlIHZhbHVlIHRvIG1ha2UgaXQgYXZhaWxhYmxlIHRvIHRoZSBuZXh0CiAgICAvLyBzdGVwIG9mIHRoZSBnZW5lcmF0b3IuCiAgICBvdXRwdXRFbGVtZW50Lmxhc3RQcm9taXNlVmFsdWUgPSB2YWx1ZTsKICAgIHJldHVybiBuZXh0LnZhbHVlLnJlc3BvbnNlOwogIH0pOwp9CgovKioKICogR2VuZXJhdG9yIGZ1bmN0aW9uIHdoaWNoIGlzIGNhbGxlZCBiZXR3ZWVuIGVhY2ggYXN5bmMgc3RlcCBvZiB0aGUgdXBsb2FkCiAqIHByb2Nlc3MuCiAqIEBwYXJhbSB7c3RyaW5nfSBpbnB1dElkIEVsZW1lbnQgSUQgb2YgdGhlIGlucHV0IGZpbGUgcGlja2VyIGVsZW1lbnQuCiAqIEBwYXJhbSB7c3RyaW5nfSBvdXRwdXRJZCBFbGVtZW50IElEIG9mIHRoZSBvdXRwdXQgZGlzcGxheS4KICogQHJldHVybiB7IUl0ZXJhYmxlPCFPYmplY3Q+fSBJdGVyYWJsZSBvZiBuZXh0IHN0ZXBzLgogKi8KZnVuY3Rpb24qIHVwbG9hZEZpbGVzU3RlcChpbnB1dElkLCBvdXRwdXRJZCkgewogIGNvbnN0IGlucHV0RWxlbWVudCA9IGRvY3VtZW50LmdldEVsZW1lbnRCeUlkKGlucHV0SWQpOwogIGlucHV0RWxlbWVudC5kaXNhYmxlZCA9IGZhbHNlOwoKICBjb25zdCBvdXRwdXRFbGVtZW50ID0gZG9jdW1lbnQuZ2V0RWxlbWVudEJ5SWQob3V0cHV0SWQpOwogIG91dHB1dEVsZW1lbnQuaW5uZXJIVE1MID0gJyc7CgogIGNvbnN0IHBpY2tlZFByb21pc2UgPSBuZXcgUHJvbWlzZSgocmVzb2x2ZSkgPT4gewogICAgaW5wdXRFbGVtZW50LmFkZEV2ZW50TGlzdGVuZXIoJ2NoYW5nZScsIChlKSA9PiB7CiAgICAgIHJlc29sdmUoZS50YXJnZXQuZmlsZXMpOwogICAgfSk7CiAgfSk7CgogIGNvbnN0IGNhbmNlbCA9IGRvY3VtZW50LmNyZWF0ZUVsZW1lbnQoJ2J1dHRvbicpOwogIGlucHV0RWxlbWVudC5wYXJlbnRFbGVtZW50LmFwcGVuZENoaWxkKGNhbmNlbCk7CiAgY2FuY2VsLnRleHRDb250ZW50ID0gJ0NhbmNlbCB1cGxvYWQnOwogIGNvbnN0IGNhbmNlbFByb21pc2UgPSBuZXcgUHJvbWlzZSgocmVzb2x2ZSkgPT4gewogICAgY2FuY2VsLm9uY2xpY2sgPSAoKSA9PiB7CiAgICAgIHJlc29sdmUobnVsbCk7CiAgICB9OwogIH0pOwoKICAvLyBXYWl0IGZvciB0aGUgdXNlciB0byBwaWNrIHRoZSBmaWxlcy4KICBjb25zdCBmaWxlcyA9IHlpZWxkIHsKICAgIHByb21pc2U6IFByb21pc2UucmFjZShbcGlja2VkUHJvbWlzZSwgY2FuY2VsUHJvbWlzZV0pLAogICAgcmVzcG9uc2U6IHsKICAgICAgYWN0aW9uOiAnc3RhcnRpbmcnLAogICAgfQogIH07CgogIGNhbmNlbC5yZW1vdmUoKTsKCiAgLy8gRGlzYWJsZSB0aGUgaW5wdXQgZWxlbWVudCBzaW5jZSBmdXJ0aGVyIHBpY2tzIGFyZSBub3QgYWxsb3dlZC4KICBpbnB1dEVsZW1lbnQuZGlzYWJsZWQgPSB0cnVlOwoKICBpZiAoIWZpbGVzKSB7CiAgICByZXR1cm4gewogICAgICByZXNwb25zZTogewogICAgICAgIGFjdGlvbjogJ2NvbXBsZXRlJywKICAgICAgfQogICAgfTsKICB9CgogIGZvciAoY29uc3QgZmlsZSBvZiBmaWxlcykgewogICAgY29uc3QgbGkgPSBkb2N1bWVudC5jcmVhdGVFbGVtZW50KCdsaScpOwogICAgbGkuYXBwZW5kKHNwYW4oZmlsZS5uYW1lLCB7Zm9udFdlaWdodDogJ2JvbGQnfSkpOwogICAgbGkuYXBwZW5kKHNwYW4oCiAgICAgICAgYCgke2ZpbGUudHlwZSB8fCAnbi9hJ30pIC0gJHtmaWxlLnNpemV9IGJ5dGVzLCBgICsKICAgICAgICBgbGFzdCBtb2RpZmllZDogJHsKICAgICAgICAgICAgZmlsZS5sYXN0TW9kaWZpZWREYXRlID8gZmlsZS5sYXN0TW9kaWZpZWREYXRlLnRvTG9jYWxlRGF0ZVN0cmluZygpIDoKICAgICAgICAgICAgICAgICAgICAgICAgICAgICAgICAgICAgJ24vYSd9IC0gYCkpOwogICAgY29uc3QgcGVyY2VudCA9IHNwYW4oJzAlIGRvbmUnKTsKICAgIGxpLmFwcGVuZENoaWxkKHBlcmNlbnQpOwoKICAgIG91dHB1dEVsZW1lbnQuYXBwZW5kQ2hpbGQobGkpOwoKICAgIGNvbnN0IGZpbGVEYXRhUHJvbWlzZSA9IG5ldyBQcm9taXNlKChyZXNvbHZlKSA9PiB7CiAgICAgIGNvbnN0IHJlYWRlciA9IG5ldyBGaWxlUmVhZGVyKCk7CiAgICAgIHJlYWRlci5vbmxvYWQgPSAoZSkgPT4gewogICAgICAgIHJlc29sdmUoZS50YXJnZXQucmVzdWx0KTsKICAgICAgfTsKICAgICAgcmVhZGVyLnJlYWRBc0FycmF5QnVmZmVyKGZpbGUpOwogICAgfSk7CiAgICAvLyBXYWl0IGZvciB0aGUgZGF0YSB0byBiZSByZWFkeS4KICAgIGxldCBmaWxlRGF0YSA9IHlpZWxkIHsKICAgICAgcHJvbWlzZTogZmlsZURhdGFQcm9taXNlLAogICAgICByZXNwb25zZTogewogICAgICAgIGFjdGlvbjogJ2NvbnRpbnVlJywKICAgICAgfQogICAgfTsKCiAgICAvLyBVc2UgYSBjaHVua2VkIHNlbmRpbmcgdG8gYXZvaWQgbWVzc2FnZSBzaXplIGxpbWl0cy4gU2VlIGIvNjIxMTU2NjAuCiAgICBsZXQgcG9zaXRpb24gPSAwOwogICAgd2hpbGUgKHBvc2l0aW9uIDwgZmlsZURhdGEuYnl0ZUxlbmd0aCkgewogICAgICBjb25zdCBsZW5ndGggPSBNYXRoLm1pbihmaWxlRGF0YS5ieXRlTGVuZ3RoIC0gcG9zaXRpb24sIE1BWF9QQVlMT0FEX1NJWkUpOwogICAgICBjb25zdCBjaHVuayA9IG5ldyBVaW50OEFycmF5KGZpbGVEYXRhLCBwb3NpdGlvbiwgbGVuZ3RoKTsKICAgICAgcG9zaXRpb24gKz0gbGVuZ3RoOwoKICAgICAgY29uc3QgYmFzZTY0ID0gYnRvYShTdHJpbmcuZnJvbUNoYXJDb2RlLmFwcGx5KG51bGwsIGNodW5rKSk7CiAgICAgIHlpZWxkIHsKICAgICAgICByZXNwb25zZTogewogICAgICAgICAgYWN0aW9uOiAnYXBwZW5kJywKICAgICAgICAgIGZpbGU6IGZpbGUubmFtZSwKICAgICAgICAgIGRhdGE6IGJhc2U2NCwKICAgICAgICB9LAogICAgICB9OwogICAgICBwZXJjZW50LnRleHRDb250ZW50ID0KICAgICAgICAgIGAke01hdGgucm91bmQoKHBvc2l0aW9uIC8gZmlsZURhdGEuYnl0ZUxlbmd0aCkgKiAxMDApfSUgZG9uZWA7CiAgICB9CiAgfQoKICAvLyBBbGwgZG9uZS4KICB5aWVsZCB7CiAgICByZXNwb25zZTogewogICAgICBhY3Rpb246ICdjb21wbGV0ZScsCiAgICB9CiAgfTsKfQoKc2NvcGUuZ29vZ2xlID0gc2NvcGUuZ29vZ2xlIHx8IHt9OwpzY29wZS5nb29nbGUuY29sYWIgPSBzY29wZS5nb29nbGUuY29sYWIgfHwge307CnNjb3BlLmdvb2dsZS5jb2xhYi5fZmlsZXMgPSB7CiAgX3VwbG9hZEZpbGVzLAogIF91cGxvYWRGaWxlc0NvbnRpbnVlLAp9Owp9KShzZWxmKTsK",
              "ok": true,
              "headers": [
                [
                  "content-type",
                  "application/javascript"
                ]
              ],
              "status": 200,
              "status_text": "OK"
            }
          },
          "base_uri": "https://localhost:8080/",
          "height": 92
        },
        "outputId": "c32e4944-5d6a-4bc1-e4ef-e894119a6d62"
      },
      "source": [
        "#Get pandas\n",
        "import pandas as pd\n",
        "import numpy as np\n",
        "\n",
        "\n",
        "# upload file\n",
        "from google.colab import files\n",
        "uploaded = files.upload()"
      ],
      "execution_count": null,
      "outputs": [
        {
          "output_type": "display_data",
          "data": {
            "text/html": [
              "\n",
              "     <input type=\"file\" id=\"files-e6a801ee-56b1-44b1-816c-d1b5a83c2b4c\" name=\"files[]\" multiple disabled\n",
              "        style=\"border:none\" />\n",
              "     <output id=\"result-e6a801ee-56b1-44b1-816c-d1b5a83c2b4c\">\n",
              "      Upload widget is only available when the cell has been executed in the\n",
              "      current browser session. Please rerun this cell to enable.\n",
              "      </output>\n",
              "      <script src=\"/nbextensions/google.colab/files.js\"></script> "
            ],
            "text/plain": [
              "<IPython.core.display.HTML object>"
            ]
          },
          "metadata": {
            "tags": []
          }
        },
        {
          "output_type": "stream",
          "text": [
            "Saving DataGrowthCapitalRegion.xlsx to DataGrowthCapitalRegion.xlsx\n"
          ],
          "name": "stdout"
        }
      ]
    },
    {
      "cell_type": "code",
      "metadata": {
        "id": "r49BGTw13BFj",
        "colab_type": "code",
        "colab": {
          "base_uri": "https://localhost:8080/",
          "height": 548
        },
        "outputId": "759cd358-b83e-4079-ec64-8302847b90a4"
      },
      "source": [
        "#use Pandas XlsxWriter DataFrame output to read the excel file\n",
        "import io\n",
        "BerlinBrandenburg_growthdata = pd.read_excel(io.BytesIO(uploaded['DataGrowthCapitalRegion.xlsx']))\n",
        "BerlinBrandenburg_growthdata"
      ],
      "execution_count": null,
      "outputs": [
        {
          "output_type": "execute_result",
          "data": {
            "text/html": [
              "<div>\n",
              "<style scoped>\n",
              "    .dataframe tbody tr th:only-of-type {\n",
              "        vertical-align: middle;\n",
              "    }\n",
              "\n",
              "    .dataframe tbody tr th {\n",
              "        vertical-align: top;\n",
              "    }\n",
              "\n",
              "    .dataframe thead th {\n",
              "        text-align: right;\n",
              "    }\n",
              "</style>\n",
              "<table border=\"1\" class=\"dataframe\">\n",
              "  <thead>\n",
              "    <tr style=\"text-align: right;\">\n",
              "      <th></th>\n",
              "      <th>community identification number</th>\n",
              "      <th>name</th>\n",
              "      <th>administrative division</th>\n",
              "      <th>Landkreis</th>\n",
              "      <th>Bundesland</th>\n",
              "      <th>totalpopulation 2007</th>\n",
              "      <th>totalpopulation 2008</th>\n",
              "      <th>totalpopulation 2009</th>\n",
              "      <th>totalpopulation 2010</th>\n",
              "      <th>totalpopulation 2011</th>\n",
              "      <th>totalpopulation 2012</th>\n",
              "      <th>totalpopulation 2013</th>\n",
              "      <th>totalpopulation 2014</th>\n",
              "      <th>totalpopulation 2015</th>\n",
              "      <th>totalpopulation 2016</th>\n",
              "      <th>totalpopulation 2017</th>\n",
              "      <th>totalpopulation 2018</th>\n",
              "    </tr>\n",
              "  </thead>\n",
              "  <tbody>\n",
              "    <tr>\n",
              "      <th>0</th>\n",
              "      <td>11000000</td>\n",
              "      <td>Berlin</td>\n",
              "      <td>Bundesland</td>\n",
              "      <td>Berlin</td>\n",
              "      <td>Berlin</td>\n",
              "      <td>3416255</td>\n",
              "      <td>3431675</td>\n",
              "      <td>3442675</td>\n",
              "      <td>3460725</td>\n",
              "      <td>3326002</td>\n",
              "      <td>3375222</td>\n",
              "      <td>3421829</td>\n",
              "      <td>3469849</td>\n",
              "      <td>3520031</td>\n",
              "      <td>3574830</td>\n",
              "      <td>3613495</td>\n",
              "      <td>3644826</td>\n",
              "    </tr>\n",
              "    <tr>\n",
              "      <th>1</th>\n",
              "      <td>12</td>\n",
              "      <td>Brandenburg</td>\n",
              "      <td>Bundesland</td>\n",
              "      <td>Brandenburg</td>\n",
              "      <td>Brandenburg</td>\n",
              "      <td>2535737</td>\n",
              "      <td>2522493</td>\n",
              "      <td>2511525</td>\n",
              "      <td>2503273</td>\n",
              "      <td>2453180</td>\n",
              "      <td>2449511</td>\n",
              "      <td>2449193</td>\n",
              "      <td>2457872</td>\n",
              "      <td>2484826</td>\n",
              "      <td>2494648</td>\n",
              "      <td>2504040</td>\n",
              "      <td>2511917</td>\n",
              "    </tr>\n",
              "    <tr>\n",
              "      <th>2</th>\n",
              "      <td>12060000</td>\n",
              "      <td>Landkreis Barnim</td>\n",
              "      <td>Landkreis</td>\n",
              "      <td>Barnim</td>\n",
              "      <td>Brandenburg</td>\n",
              "      <td>176888</td>\n",
              "      <td>176904</td>\n",
              "      <td>176848</td>\n",
              "      <td>172572</td>\n",
              "      <td>173193</td>\n",
              "      <td>173754</td>\n",
              "      <td>174981</td>\n",
              "      <td>177411</td>\n",
              "      <td>179365</td>\n",
              "      <td>180864</td>\n",
              "      <td>182760</td>\n",
              "      <td>176821</td>\n",
              "    </tr>\n",
              "    <tr>\n",
              "      <th>3</th>\n",
              "      <td>12060005</td>\n",
              "      <td>Ahrensfelde</td>\n",
              "      <td>Gemeinde</td>\n",
              "      <td>Barnim</td>\n",
              "      <td>Brandenburg</td>\n",
              "      <td>13090</td>\n",
              "      <td>13114</td>\n",
              "      <td>13028</td>\n",
              "      <td>12727</td>\n",
              "      <td>12761</td>\n",
              "      <td>12769</td>\n",
              "      <td>12856</td>\n",
              "      <td>12954</td>\n",
              "      <td>13068</td>\n",
              "      <td>13307</td>\n",
              "      <td>13543</td>\n",
              "      <td>13006</td>\n",
              "    </tr>\n",
              "    <tr>\n",
              "      <th>4</th>\n",
              "      <td>12060012</td>\n",
              "      <td>Althüttendorf</td>\n",
              "      <td>amtsangehörige Gemeinde</td>\n",
              "      <td>Barnim</td>\n",
              "      <td>Brandenburg</td>\n",
              "      <td>785</td>\n",
              "      <td>756</td>\n",
              "      <td>749</td>\n",
              "      <td>690</td>\n",
              "      <td>805</td>\n",
              "      <td>768</td>\n",
              "      <td>675</td>\n",
              "      <td>614</td>\n",
              "      <td>564</td>\n",
              "      <td>585</td>\n",
              "      <td>579</td>\n",
              "      <td>719</td>\n",
              "    </tr>\n",
              "    <tr>\n",
              "      <th>...</th>\n",
              "      <td>...</td>\n",
              "      <td>...</td>\n",
              "      <td>...</td>\n",
              "      <td>...</td>\n",
              "      <td>...</td>\n",
              "      <td>...</td>\n",
              "      <td>...</td>\n",
              "      <td>...</td>\n",
              "      <td>...</td>\n",
              "      <td>...</td>\n",
              "      <td>...</td>\n",
              "      <td>...</td>\n",
              "      <td>...</td>\n",
              "      <td>...</td>\n",
              "      <td>...</td>\n",
              "      <td>...</td>\n",
              "      <td>...</td>\n",
              "    </tr>\n",
              "    <tr>\n",
              "      <th>441</th>\n",
              "      <td>8</td>\n",
              "      <td>Neukölln</td>\n",
              "      <td>Bezirk</td>\n",
              "      <td>Berlin</td>\n",
              "      <td>Berlin</td>\n",
              "      <td>307400</td>\n",
              "      <td>308500</td>\n",
              "      <td>312900</td>\n",
              "      <td>312100</td>\n",
              "      <td>300000</td>\n",
              "      <td>307700</td>\n",
              "      <td>312200</td>\n",
              "      <td>315500</td>\n",
              "      <td>319800</td>\n",
              "      <td>322700</td>\n",
              "      <td>327300</td>\n",
              "      <td>324100</td>\n",
              "    </tr>\n",
              "    <tr>\n",
              "      <th>442</th>\n",
              "      <td>9</td>\n",
              "      <td>Treptow-Köpenick</td>\n",
              "      <td>Bezirk</td>\n",
              "      <td>Berlin</td>\n",
              "      <td>Berlin</td>\n",
              "      <td>238000</td>\n",
              "      <td>240500</td>\n",
              "      <td>242500</td>\n",
              "      <td>241200</td>\n",
              "      <td>239100</td>\n",
              "      <td>241900</td>\n",
              "      <td>243400</td>\n",
              "      <td>245800</td>\n",
              "      <td>248100</td>\n",
              "      <td>252600</td>\n",
              "      <td>256000</td>\n",
              "      <td>263200</td>\n",
              "    </tr>\n",
              "    <tr>\n",
              "      <th>443</th>\n",
              "      <td>10</td>\n",
              "      <td>Marzahn-Hellersdorf</td>\n",
              "      <td>Bezirk</td>\n",
              "      <td>Berlin</td>\n",
              "      <td>Berlin</td>\n",
              "      <td>250700</td>\n",
              "      <td>250200</td>\n",
              "      <td>249200</td>\n",
              "      <td>249300</td>\n",
              "      <td>244900</td>\n",
              "      <td>248000</td>\n",
              "      <td>250200</td>\n",
              "      <td>251800</td>\n",
              "      <td>254400</td>\n",
              "      <td>257200</td>\n",
              "      <td>260300</td>\n",
              "      <td>263100</td>\n",
              "    </tr>\n",
              "    <tr>\n",
              "      <th>444</th>\n",
              "      <td>11</td>\n",
              "      <td>Lichtenberg</td>\n",
              "      <td>Bezirk</td>\n",
              "      <td>Berlin</td>\n",
              "      <td>Berlin</td>\n",
              "      <td>260300</td>\n",
              "      <td>260100</td>\n",
              "      <td>261000</td>\n",
              "      <td>259800</td>\n",
              "      <td>253700</td>\n",
              "      <td>257500</td>\n",
              "      <td>261400</td>\n",
              "      <td>265100</td>\n",
              "      <td>268100</td>\n",
              "      <td>275200</td>\n",
              "      <td>280500</td>\n",
              "      <td>286100</td>\n",
              "    </tr>\n",
              "    <tr>\n",
              "      <th>445</th>\n",
              "      <td>12</td>\n",
              "      <td>Reinickendorf</td>\n",
              "      <td>Bezirk</td>\n",
              "      <td>Berlin</td>\n",
              "      <td>Berlin</td>\n",
              "      <td>243000</td>\n",
              "      <td>242900</td>\n",
              "      <td>241400</td>\n",
              "      <td>242500</td>\n",
              "      <td>239400</td>\n",
              "      <td>241900</td>\n",
              "      <td>245000</td>\n",
              "      <td>248300</td>\n",
              "      <td>250700</td>\n",
              "      <td>254500</td>\n",
              "      <td>259400</td>\n",
              "      <td>260400</td>\n",
              "    </tr>\n",
              "  </tbody>\n",
              "</table>\n",
              "<p>446 rows × 17 columns</p>\n",
              "</div>"
            ],
            "text/plain": [
              "     community identification number  ... totalpopulation 2018\n",
              "0                           11000000  ...              3644826\n",
              "1                                 12  ...              2511917\n",
              "2                           12060000  ...               176821\n",
              "3                           12060005  ...                13006\n",
              "4                           12060012  ...                  719\n",
              "..                               ...  ...                  ...\n",
              "441                                8  ...               324100\n",
              "442                                9  ...               263200\n",
              "443                               10  ...               263100\n",
              "444                               11  ...               286100\n",
              "445                               12  ...               260400\n",
              "\n",
              "[446 rows x 17 columns]"
            ]
          },
          "metadata": {
            "tags": []
          },
          "execution_count": 158
        }
      ]
    },
    {
      "cell_type": "markdown",
      "metadata": {
        "id": "2VvW3T4k3kKu",
        "colab_type": "text"
      },
      "source": [
        "As we can see, the data contains statistical information as well as basic information on the community identification number and administrative affiliations.\n",
        "\n",
        "Germany has different territorial divisions (Federal States (Bundesland), districts (Landkreis), municipalities (Gemeinden or kreisfreie Stadt)). The state Brandenburg is structured in this way.Berlin however has the status of an independent \"city state\". It is subdivided into 12 boroughs (Bezirke), which are administratively not comparable with districts (Landkreise) in area states.\n",
        "\n",
        "However, they are statistically relevant, as a single Bezirk has between 240.000 and 400.000 inhabitants. Therefore, there are used as a reference to the districts in Brandenburg."
      ]
    },
    {
      "cell_type": "markdown",
      "metadata": {
        "id": "85_Tsb_G_XkE",
        "colab_type": "text"
      },
      "source": [
        "## Importing the Geodata\n",
        "\n",
        "To visualize the data, we will use a map in order to show spacial difference and similarities. \n",
        "\n",
        "OpenStreetMap is a collaborative and Open Source map, which can be used as a base for the map in this project as it contains not only geo-information, but also other data, tags etc.\n",
        "\n",
        "I'm using geopandas (an Open Source project) to make use of geo-data in Python."
      ]
    },
    {
      "cell_type": "code",
      "metadata": {
        "id": "v_Zbu_H0Iyhm",
        "colab_type": "code",
        "colab": {
          "base_uri": "https://localhost:8080/",
          "height": 1000
        },
        "outputId": "366208ea-689e-4639-995a-52e4d8f2b4da"
      },
      "source": [
        "#preparation (importing all packages needed for a visualization)\n",
        "import altair as alt\n",
        "import pandas as pd\n",
        "import matplotlib.pyplot as plt\n",
        "\n",
        "# importing geopandas and OSMPython tools to access the ressources of Open Street Map\n",
        "!pip install geopandas\n",
        "import geopandas as gpd\n",
        "!pip install OSMPythonTools\n",
        "!pip install geopy"
      ],
      "execution_count": null,
      "outputs": [
        {
          "output_type": "stream",
          "text": [
            "Collecting geopandas\n",
            "\u001b[?25l  Downloading https://files.pythonhosted.org/packages/f8/dd/c0a6429cc7692efd5c99420c9df525c40f472b50705871a770449027e244/geopandas-0.8.0-py2.py3-none-any.whl (962kB)\n",
            "\u001b[K     |████████████████████████████████| 962kB 2.6MB/s \n",
            "\u001b[?25hRequirement already satisfied: shapely in /usr/local/lib/python3.6/dist-packages (from geopandas) (1.7.0)\n",
            "Requirement already satisfied: pandas>=0.23.0 in /usr/local/lib/python3.6/dist-packages (from geopandas) (1.0.5)\n",
            "Collecting pyproj>=2.2.0\n",
            "\u001b[?25l  Downloading https://files.pythonhosted.org/packages/e5/c3/071e080230ac4b6c64f1a2e2f9161c9737a2bc7b683d2c90b024825000c0/pyproj-2.6.1.post1-cp36-cp36m-manylinux2010_x86_64.whl (10.9MB)\n",
            "\u001b[K     |████████████████████████████████| 10.9MB 15.0MB/s \n",
            "\u001b[?25hCollecting fiona\n",
            "\u001b[?25l  Downloading https://files.pythonhosted.org/packages/ec/20/4e63bc5c6e62df889297b382c3ccd4a7a488b00946aaaf81a118158c6f09/Fiona-1.8.13.post1-cp36-cp36m-manylinux1_x86_64.whl (14.7MB)\n",
            "\u001b[K     |████████████████████████████████| 14.7MB 307kB/s \n",
            "\u001b[?25hRequirement already satisfied: python-dateutil>=2.6.1 in /usr/local/lib/python3.6/dist-packages (from pandas>=0.23.0->geopandas) (2.8.1)\n",
            "Requirement already satisfied: pytz>=2017.2 in /usr/local/lib/python3.6/dist-packages (from pandas>=0.23.0->geopandas) (2018.9)\n",
            "Requirement already satisfied: numpy>=1.13.3 in /usr/local/lib/python3.6/dist-packages (from pandas>=0.23.0->geopandas) (1.18.5)\n",
            "Collecting cligj>=0.5\n",
            "  Downloading https://files.pythonhosted.org/packages/e4/be/30a58b4b0733850280d01f8bd132591b4668ed5c7046761098d665ac2174/cligj-0.5.0-py3-none-any.whl\n",
            "Collecting click-plugins>=1.0\n",
            "  Downloading https://files.pythonhosted.org/packages/e9/da/824b92d9942f4e472702488857914bdd50f73021efea15b4cad9aca8ecef/click_plugins-1.1.1-py2.py3-none-any.whl\n",
            "Requirement already satisfied: six>=1.7 in /usr/local/lib/python3.6/dist-packages (from fiona->geopandas) (1.12.0)\n",
            "Requirement already satisfied: attrs>=17 in /usr/local/lib/python3.6/dist-packages (from fiona->geopandas) (19.3.0)\n",
            "Requirement already satisfied: click<8,>=4.0 in /usr/local/lib/python3.6/dist-packages (from fiona->geopandas) (7.1.2)\n",
            "Collecting munch\n",
            "  Downloading https://files.pythonhosted.org/packages/cc/ab/85d8da5c9a45e072301beb37ad7f833cd344e04c817d97e0cc75681d248f/munch-2.5.0-py2.py3-none-any.whl\n",
            "Installing collected packages: pyproj, cligj, click-plugins, munch, fiona, geopandas\n",
            "Successfully installed click-plugins-1.1.1 cligj-0.5.0 fiona-1.8.13.post1 geopandas-0.8.0 munch-2.5.0 pyproj-2.6.1.post1\n",
            "Collecting OSMPythonTools\n",
            "  Downloading https://files.pythonhosted.org/packages/18/dc/e0299ab2f10c7c395f4ff46cb8c126beaeb466c9c00058f784cad3e810ce/OSMPythonTools-0.2.8.tar.gz\n",
            "Requirement already satisfied: beautifulsoup4 in /usr/local/lib/python3.6/dist-packages (from OSMPythonTools) (4.6.3)\n",
            "Collecting geojson\n",
            "  Downloading https://files.pythonhosted.org/packages/e4/8d/9e28e9af95739e6d2d2f8d4bef0b3432da40b7c3588fbad4298c1be09e48/geojson-2.5.0-py2.py3-none-any.whl\n",
            "Requirement already satisfied: lxml in /usr/local/lib/python3.6/dist-packages (from OSMPythonTools) (4.2.6)\n",
            "Requirement already satisfied: matplotlib in /usr/local/lib/python3.6/dist-packages (from OSMPythonTools) (3.2.2)\n",
            "Requirement already satisfied: numpy in /usr/local/lib/python3.6/dist-packages (from OSMPythonTools) (1.18.5)\n",
            "Requirement already satisfied: pandas in /usr/local/lib/python3.6/dist-packages (from OSMPythonTools) (1.0.5)\n",
            "Collecting ujson\n",
            "\u001b[?25l  Downloading https://files.pythonhosted.org/packages/12/0a/35e07ebe48f0c2a23c316d92c2e26eade75e00a3df0758be57e7804bfbf0/ujson-3.0.0-cp36-cp36m-manylinux1_x86_64.whl (176kB)\n",
            "\u001b[K     |████████████████████████████████| 184kB 5.7MB/s \n",
            "\u001b[?25hRequirement already satisfied: xarray in /usr/local/lib/python3.6/dist-packages (from OSMPythonTools) (0.15.1)\n",
            "Requirement already satisfied: kiwisolver>=1.0.1 in /usr/local/lib/python3.6/dist-packages (from matplotlib->OSMPythonTools) (1.2.0)\n",
            "Requirement already satisfied: cycler>=0.10 in /usr/local/lib/python3.6/dist-packages (from matplotlib->OSMPythonTools) (0.10.0)\n",
            "Requirement already satisfied: pyparsing!=2.0.4,!=2.1.2,!=2.1.6,>=2.0.1 in /usr/local/lib/python3.6/dist-packages (from matplotlib->OSMPythonTools) (2.4.7)\n",
            "Requirement already satisfied: python-dateutil>=2.1 in /usr/local/lib/python3.6/dist-packages (from matplotlib->OSMPythonTools) (2.8.1)\n",
            "Requirement already satisfied: pytz>=2017.2 in /usr/local/lib/python3.6/dist-packages (from pandas->OSMPythonTools) (2018.9)\n",
            "Requirement already satisfied: setuptools>=41.2 in /usr/local/lib/python3.6/dist-packages (from xarray->OSMPythonTools) (49.1.0)\n",
            "Requirement already satisfied: six in /usr/local/lib/python3.6/dist-packages (from cycler>=0.10->matplotlib->OSMPythonTools) (1.12.0)\n",
            "Building wheels for collected packages: OSMPythonTools\n",
            "  Building wheel for OSMPythonTools (setup.py) ... \u001b[?25l\u001b[?25hdone\n",
            "  Created wheel for OSMPythonTools: filename=OSMPythonTools-0.2.8-cp36-none-any.whl size=12472 sha256=f96a356981c6c1a0f22039edd29a9b4d47868edc8b7d7e49b49c0264acfeadb1\n",
            "  Stored in directory: /root/.cache/pip/wheels/f9/46/ed/a362f272cda31ae76e3d3423993cc7c67337938c4b142d68ed\n",
            "Successfully built OSMPythonTools\n",
            "Installing collected packages: geojson, ujson, OSMPythonTools\n",
            "Successfully installed OSMPythonTools-0.2.8 geojson-2.5.0 ujson-3.0.0\n",
            "Requirement already satisfied: geopy in /usr/local/lib/python3.6/dist-packages (1.17.0)\n",
            "Requirement already satisfied: geographiclib<2,>=1.49 in /usr/local/lib/python3.6/dist-packages (from geopy) (1.50)\n"
          ],
          "name": "stdout"
        }
      ]
    },
    {
      "cell_type": "markdown",
      "metadata": {
        "id": "odnfOS1gzpyD",
        "colab_type": "text"
      },
      "source": [
        "**Selecting the area and administration levels**\n",
        "\n",
        "[Nominatim](https://nominatim.openstreetmap.org/) is a tool for selecting areas of interest in OpenStreetMap.\n",
        "\n",
        "Operpass is a tool to help extracting data from OpenStreetMap. I worked with [Overpass Turbo](http://overpass-turbo.eu/), a webbased tool (interactive map), that helps by visualising the data.\n",
        "\n",
        "As mentioned in the section Data Sources and Data Cleaning, the areas I want to have a look have, have different administraion levels. The administrative levels serve as a filter, as the amount of data would be too large without a filter. For selecting the admin levels of interest, I used the overpass turbo data query and a [list of all admin levels](https://wiki.openstreetmap.org/wiki/Tag:boundary%3Dadministrative#11_admin_level_values_for_specific_countries).\n",
        "\n",
        "I selected the following administrative divisions, corresponding to the dataset by the Statistikamt Berlin Brandenburg):\n",
        "\n",
        "* level 4 = state (refers to the value \"Bundesland\" in the dataset)\n",
        "*   level 6 = counties (refers to value \"Landkreis\") and municipalities / towns not associated with a county  (refers to value \"kreisfreie Stadt\")\n",
        "* level 8 = Towns, Municipalities / City-districts (refers to the value \"kreisangehörige Stadt\", \"Gemeinde\" and \"amtsangehörige Gemeinde\")\n",
        "*   level 9 = Berlin's boroughs (refers to the value \"Bezirk\")"
      ]
    },
    {
      "cell_type": "code",
      "metadata": {
        "id": "rcatNPVsTi82",
        "colab_type": "code",
        "colab": {
          "base_uri": "https://localhost:8080/",
          "height": 54
        },
        "outputId": "d4644b12-7383-488f-ce11-923edf474944"
      },
      "source": [
        "#Starting with Bundesland Brandenburg\n",
        "#selecting the area (ID) with Nominatim\n",
        "\n",
        "from OSMPythonTools.nominatim import Nominatim\n",
        "nominatim = Nominatim()\n",
        "stateBB = nominatim.query('Land Brandenburg, Germany')\n",
        "stateBB.areaId()"
      ],
      "execution_count": null,
      "outputs": [
        {
          "output_type": "stream",
          "text": [
            "[nominatim] downloading data: Land Brandenburg, Germany\n"
          ],
          "name": "stdout"
        },
        {
          "output_type": "execute_result",
          "data": {
            "text/plain": [
              "3600062504"
            ]
          },
          "metadata": {
            "tags": []
          },
          "execution_count": 3
        }
      ]
    },
    {
      "cell_type": "code",
      "metadata": {
        "id": "zwZtvEwN_7ML",
        "colab_type": "code",
        "colab": {
          "base_uri": "https://localhost:8080/",
          "height": 355
        },
        "outputId": "6dcea25e-d169-4c53-e2e7-3fa2e4f94e53"
      },
      "source": [
        "#using overpass to extract data from OSM\n",
        "from OSMPythonTools.overpass import overpassQueryBuilder\n",
        "\n",
        "#specify type of area by the admin_level\n",
        "#admin level 4 (Bundesländer)\n",
        "BB_OSM_adminlevel4_query = overpassQueryBuilder(area=stateBB.areaId(), elementType=['relation'], selector= '\"border_type\"=\"state\"', out='body', includeGeometry=True)\n",
        "from OSMPythonTools.overpass import Overpass\n",
        "overpass = Overpass()\n",
        "BBa4_data = overpass.query(BB_OSM_adminlevel4_query, timeout=1000)\n",
        "BBa4_data\n",
        "\n",
        "#admin level 6 (Landkreise, kreisfreie Städte)\n",
        "BB_OSM_adminlevel6_query = overpassQueryBuilder(area=stateBB.areaId(), elementType=['relation'], selector='\"admin_level\"=\"6\"', out='body', includeGeometry=True)\n",
        "from OSMPythonTools.overpass import Overpass\n",
        "overpass = Overpass()\n",
        "BBa6_data = overpass.query(BB_OSM_adminlevel6_query, timeout=1000)\n",
        "BBa6_data\n",
        "\n",
        "#admin level 8 (kreisangehörige Städte, Gemeinden and amtsangehörige Gemeinden)\n",
        "BB_OSM_adminlevel8_query = overpassQueryBuilder(area=stateBB.areaId(), elementType=['relation'], selector= '\"admin_level\"=\"8\"', out='body', includeGeometry=True)\n",
        "from OSMPythonTools.overpass import Overpass\n",
        "overpass = Overpass()\n",
        "BBa8_data = overpass.query(BB_OSM_adminlevel8_query, timeout=1000)\n",
        "BBa8_data"
      ],
      "execution_count": null,
      "outputs": [
        {
          "output_type": "stream",
          "text": [
            "[overpass] downloading data: [timeout:1000][out:json];area(3600062504)->.searchArea;(relation[\"border_type\"=\"state\"](area.searchArea);); out body geom;\n",
            "[overpass] downloading data: [timeout:1000][out:json];area(3600062504)->.searchArea;(relation[\"admin_level\"=\"6\"](area.searchArea);); out body geom;\n",
            "[overpass] downloading data: [timeout:1000][out:json];area(3600062504)->.searchArea;(relation[\"admin_level\"=\"8\"](area.searchArea);); out body geom;\n",
            "[overpass] waiting for 10.0 seconds\n",
            "[overpass] waiting for 10.0 more seconds\n",
            "[overpass] waiting for 10.0 more seconds\n",
            "[overpass] waiting for 10.0 more seconds\n",
            "[overpass] waiting for 10.0 more seconds\n",
            "[overpass] waiting for 10.0 more seconds\n",
            "[overpass] waiting for 10.0 more seconds\n",
            "[overpass] waiting for 10.0 more seconds\n",
            "[overpass] waiting for 10.0 more seconds\n",
            "[overpass] waiting for 10.0 more seconds\n",
            "[overpass] waiting for 10.0 more seconds\n",
            "[overpass] waiting for 6.0 more seconds\n",
            "[overpass] start processing\n"
          ],
          "name": "stdout"
        },
        {
          "output_type": "execute_result",
          "data": {
            "text/plain": [
              "<OSMPythonTools.overpass.OverpassResult at 0x7f8fb44317b8>"
            ]
          },
          "metadata": {
            "tags": []
          },
          "execution_count": 4
        }
      ]
    },
    {
      "cell_type": "code",
      "metadata": {
        "id": "VXMl15KkT9Ct",
        "colab_type": "code",
        "colab": {
          "base_uri": "https://localhost:8080/",
          "height": 54
        },
        "outputId": "e50a9565-abb9-43aa-8af0-3a106ebd3ef1"
      },
      "source": [
        "#Second: Berlin\n",
        "#selecting the area (ID) with Nominatim\n",
        "\n",
        "from OSMPythonTools.nominatim import Nominatim\n",
        "nominatim = Nominatim()\n",
        "stateB = nominatim.query('Berlin, Germany')\n",
        "stateB.areaId()"
      ],
      "execution_count": null,
      "outputs": [
        {
          "output_type": "stream",
          "text": [
            "[nominatim] downloading data: Berlin, Germany\n"
          ],
          "name": "stdout"
        },
        {
          "output_type": "execute_result",
          "data": {
            "text/plain": [
              "3600062422"
            ]
          },
          "metadata": {
            "tags": []
          },
          "execution_count": 5
        }
      ]
    },
    {
      "cell_type": "code",
      "metadata": {
        "id": "d9n-CCvXVa1K",
        "colab_type": "code",
        "colab": {
          "base_uri": "https://localhost:8080/",
          "height": 355
        },
        "outputId": "3ef0a071-0e4d-42bf-ea39-a21079b04b0b"
      },
      "source": [
        "#specify type of area by the admin level\n",
        "#admin level 4 (Bundesland)\n",
        "Ber_OSM_adminlevel4_query = overpassQueryBuilder(area=stateB.areaId(), elementType=['relation'], selector= '\"admin_level\"=\"4\"', out='body', includeGeometry=True)\n",
        "from OSMPythonTools.overpass import Overpass\n",
        "overpass = Overpass()\n",
        "Ber_a4_data = overpass.query(Ber_OSM_adminlevel4_query, timeout=1000)\n",
        "Ber_a4_data\n",
        "\n",
        "#admin level 9 (Bezirke)\n",
        "Ber_OSM_adminlevel9_query = overpassQueryBuilder(area=stateB.areaId(), elementType=['relation'], selector='\"admin_level\"=\"9\"', out='body', includeGeometry=True)\n",
        "from OSMPythonTools.overpass import Overpass\n",
        "overpass = Overpass()\n",
        "Ber_a9_data = overpass.query(Ber_OSM_adminlevel9_query, timeout=1000)\n",
        "Ber_a9_data"
      ],
      "execution_count": null,
      "outputs": [
        {
          "output_type": "stream",
          "text": [
            "[overpass] downloading data: [timeout:1000][out:json];area(3600062422)->.searchArea;(relation[\"admin_level\"=\"4\"](area.searchArea);); out body geom;\n",
            "[overpass] waiting for 10.0 seconds\n",
            "[overpass] waiting for 10.0 more seconds\n",
            "[overpass] waiting for 10.0 more seconds\n",
            "[overpass] waiting for 10.0 more seconds\n",
            "[overpass] waiting for 10.0 more seconds\n",
            "[overpass] waiting for 10.0 more seconds\n",
            "[overpass] waiting for 10.0 more seconds\n",
            "[overpass] waiting for 10.0 more seconds\n",
            "[overpass] waiting for 3.0 more seconds\n",
            "[overpass] start processing\n",
            "[overpass] downloading data: [timeout:1000][out:json];area(3600062422)->.searchArea;(relation[\"admin_level\"=\"9\"](area.searchArea);); out body geom;\n",
            "[overpass] waiting for 10.0 seconds\n",
            "[overpass] waiting for 10.0 more seconds\n",
            "[overpass] waiting for 10.0 more seconds\n",
            "[overpass] start processing\n"
          ],
          "name": "stdout"
        },
        {
          "output_type": "execute_result",
          "data": {
            "text/plain": [
              "<OSMPythonTools.overpass.OverpassResult at 0x7f8faee858d0>"
            ]
          },
          "metadata": {
            "tags": []
          },
          "execution_count": 6
        }
      ]
    },
    {
      "cell_type": "code",
      "metadata": {
        "id": "lA47o-6uBuxp",
        "colab_type": "code",
        "colab": {
          "base_uri": "https://localhost:8080/",
          "height": 36
        },
        "outputId": "74f62c59-89fd-4bbd-a8e7-8785628d3951"
      },
      "source": [
        "#identifying the variables the data includes (for Berlin)\n",
        "Ber_a9_data.relations()[7].type()"
      ],
      "execution_count": null,
      "outputs": [
        {
          "output_type": "execute_result",
          "data": {
            "application/vnd.google.colaboratory.intrinsic": {
              "type": "string"
            },
            "text/plain": [
              "'relation'"
            ]
          },
          "metadata": {
            "tags": []
          },
          "execution_count": 7
        }
      ]
    },
    {
      "cell_type": "markdown",
      "metadata": {
        "id": "xP-WgkVhHdsS",
        "colab_type": "text"
      },
      "source": [
        "**Merging the Geo-Dataframes for Berlin and Brandenburg**\n",
        "\n",
        "In order to create a joint table, I'm turning the data frames into GeoDateFrames including only the relevant columns for the further process.\n",
        "\n",
        "Therefore I'm selecting the relevant columns for the upcoming process: The community identification number (Amtlicher Gemeindeschlüssel), the name, the admin level and the geometry info. In a following step, I'm merging all Dataframes in order to have one containing all the information."
      ]
    },
    {
      "cell_type": "code",
      "metadata": {
        "id": "uMIcbjepCg2P",
        "colab_type": "code",
        "colab": {}
      },
      "source": [
        "#Same process for every Dataframe: selecting columns and turning the dataframe into a GeoDataFrame\n",
        "\n",
        "#admin level 4 Brandenburg\n",
        "Brandenburg_Geodata_4 = [(lib.tag (\"de:amtlicher_gemeindeschluessel\"), lib.tag(\"name\"), lib.tag(\"admin_level\"), lib.geometry()) for lib in BBa4_data.relations()]\n",
        "Brandenburg_Geodata_4 = gpd.GeoDataFrame(Brandenburg_Geodata_4, columns = ['de:amtlicher_gemeindeschluessel', 'name', 'admin_level', 'geometry'])\n",
        "#admin level 4 Berlin\n",
        "Berlin_Geodata_4 = [(lib.tag (\"de:amtlicher_gemeindeschluessel\"), lib.tag(\"name\"), lib.tag(\"admin_level\"), lib.geometry()) for lib in Ber_a4_data.relations()]\n",
        "Berlin_Geodata_4 = gpd.GeoDataFrame(Berlin_Geodata_4, columns = ['de:amtlicher_gemeindeschluessel', 'name', 'admin_level', 'geometry'])\n",
        "#admin level 6 Brandenburg\n",
        "Brandenburg_Geodata_6 = [(lib.tag (\"de:amtlicher_gemeindeschluessel\"), lib.tag(\"name\"), lib.tag(\"admin_level\"), lib.geometry()) for lib in BBa6_data.relations()]\n",
        "Brandenburg_Geodata_6 = gpd.GeoDataFrame(Brandenburg_Geodata_6, columns = ['de:amtlicher_gemeindeschluessel', 'name', 'admin_level', 'geometry'])\n",
        "#admin level 8 Brandenburg\n",
        "Brandenburg_Geodata_8 = [(lib.tag (\"de:amtlicher_gemeindeschluessel\"), lib.tag(\"name\"), lib.tag(\"admin_level\"), lib.geometry()) for lib in BBa8_data.relations()]\n",
        "Brandenburg_Geodata_8 = gpd.GeoDataFrame(Brandenburg_Geodata_8, columns = ['de:amtlicher_gemeindeschluessel', 'name', 'admin_level', 'geometry'])\n",
        "# admin level 9 Berlin\n",
        "Berlin_Geodata_9 = [(lib.tag (\"de:amtlicher_gemeindeschluessel\"), lib.tag(\"name\"), lib.tag(\"admin_level\"), lib.geometry()) for lib in Ber_a9_data.relations()]\n",
        "Berlin_Geodata_9 = gpd.GeoDataFrame(Berlin_Geodata_9, columns = ['de:amtlicher_gemeindeschluessel', 'name', 'admin_level', 'geometry'])"
      ],
      "execution_count": null,
      "outputs": []
    },
    {
      "cell_type": "code",
      "metadata": {
        "id": "QTHWDHi1OvKs",
        "colab_type": "code",
        "colab": {
          "base_uri": "https://localhost:8080/",
          "height": 597
        },
        "outputId": "f648d84d-e5a6-4c52-a0db-a69f5d01fe13"
      },
      "source": [
        "#joining the GeoDateFrames into one\n",
        "BerlinBrandenburg_Geodata = pd.concat([Brandenburg_Geodata_4, Berlin_Geodata_4, Brandenburg_Geodata_6, Brandenburg_Geodata_8, Berlin_Geodata_9])\n",
        "BerlinBrandenburg_Geodata"
      ],
      "execution_count": null,
      "outputs": [
        {
          "output_type": "execute_result",
          "data": {
            "text/html": [
              "<div>\n",
              "<style scoped>\n",
              "    .dataframe tbody tr th:only-of-type {\n",
              "        vertical-align: middle;\n",
              "    }\n",
              "\n",
              "    .dataframe tbody tr th {\n",
              "        vertical-align: top;\n",
              "    }\n",
              "\n",
              "    .dataframe thead th {\n",
              "        text-align: right;\n",
              "    }\n",
              "</style>\n",
              "<table border=\"1\" class=\"dataframe\">\n",
              "  <thead>\n",
              "    <tr style=\"text-align: right;\">\n",
              "      <th></th>\n",
              "      <th>de:amtlicher_gemeindeschluessel</th>\n",
              "      <th>name</th>\n",
              "      <th>admin_level</th>\n",
              "      <th>geometry</th>\n",
              "    </tr>\n",
              "  </thead>\n",
              "  <tbody>\n",
              "    <tr>\n",
              "      <th>0</th>\n",
              "      <td>13</td>\n",
              "      <td>Mecklenburg-Vorpommern</td>\n",
              "      <td>4</td>\n",
              "      <td>POLYGON ((14.39020 53.38571, 14.39085 53.38423...</td>\n",
              "    </tr>\n",
              "    <tr>\n",
              "      <th>1</th>\n",
              "      <td>12</td>\n",
              "      <td>Brandenburg</td>\n",
              "      <td>4</td>\n",
              "      <td>MULTIPOLYGON (((12.26099 52.22969, 12.26174 52...</td>\n",
              "    </tr>\n",
              "    <tr>\n",
              "      <th>2</th>\n",
              "      <td>15</td>\n",
              "      <td>Sachsen-Anhalt</td>\n",
              "      <td>4</td>\n",
              "      <td>MULTIPOLYGON (((12.18430 51.38726, 12.18445 51...</td>\n",
              "    </tr>\n",
              "    <tr>\n",
              "      <th>0</th>\n",
              "      <td>11000000</td>\n",
              "      <td>Berlin</td>\n",
              "      <td>4</td>\n",
              "      <td>MULTIPOLYGON (((13.50344 52.61899, 13.50365 52...</td>\n",
              "    </tr>\n",
              "    <tr>\n",
              "      <th>1</th>\n",
              "      <td>12</td>\n",
              "      <td>Brandenburg</td>\n",
              "      <td>4</td>\n",
              "      <td>MULTIPOLYGON (((12.26099 52.22969, 12.26174 52...</td>\n",
              "    </tr>\n",
              "    <tr>\n",
              "      <th>...</th>\n",
              "      <td>...</td>\n",
              "      <td>...</td>\n",
              "      <td>...</td>\n",
              "      <td>...</td>\n",
              "    </tr>\n",
              "    <tr>\n",
              "      <th>9</th>\n",
              "      <td>None</td>\n",
              "      <td>Pankow</td>\n",
              "      <td>9</td>\n",
              "      <td>MULTIPOLYGON (((13.50344 52.61899, 13.50365 52...</td>\n",
              "    </tr>\n",
              "    <tr>\n",
              "      <th>10</th>\n",
              "      <td>None</td>\n",
              "      <td>Charlottenburg-Wilmersdorf</td>\n",
              "      <td>9</td>\n",
              "      <td>POLYGON ((13.33438 52.51641, 13.33462 52.51588...</td>\n",
              "    </tr>\n",
              "    <tr>\n",
              "      <th>11</th>\n",
              "      <td>None</td>\n",
              "      <td>Lichtenberg</td>\n",
              "      <td>9</td>\n",
              "      <td>POLYGON ((13.46961 52.52281, 13.46950 52.52287...</td>\n",
              "    </tr>\n",
              "    <tr>\n",
              "      <th>12</th>\n",
              "      <td>None</td>\n",
              "      <td>Seeburg</td>\n",
              "      <td>9</td>\n",
              "      <td>POLYGON ((13.09939 52.51430, 13.10774 52.51429...</td>\n",
              "    </tr>\n",
              "    <tr>\n",
              "      <th>13</th>\n",
              "      <td>None</td>\n",
              "      <td>Schwanebeck</td>\n",
              "      <td>9</td>\n",
              "      <td>POLYGON ((13.50473 52.61964, 13.50461 52.61959...</td>\n",
              "    </tr>\n",
              "  </tbody>\n",
              "</table>\n",
              "<p>477 rows × 4 columns</p>\n",
              "</div>"
            ],
            "text/plain": [
              "   de:amtlicher_gemeindeschluessel  ...                                           geometry\n",
              "0                               13  ...  POLYGON ((14.39020 53.38571, 14.39085 53.38423...\n",
              "1                               12  ...  MULTIPOLYGON (((12.26099 52.22969, 12.26174 52...\n",
              "2                               15  ...  MULTIPOLYGON (((12.18430 51.38726, 12.18445 51...\n",
              "0                         11000000  ...  MULTIPOLYGON (((13.50344 52.61899, 13.50365 52...\n",
              "1                               12  ...  MULTIPOLYGON (((12.26099 52.22969, 12.26174 52...\n",
              "..                             ...  ...                                                ...\n",
              "9                             None  ...  MULTIPOLYGON (((13.50344 52.61899, 13.50365 52...\n",
              "10                            None  ...  POLYGON ((13.33438 52.51641, 13.33462 52.51588...\n",
              "11                            None  ...  POLYGON ((13.46961 52.52281, 13.46950 52.52287...\n",
              "12                            None  ...  POLYGON ((13.09939 52.51430, 13.10774 52.51429...\n",
              "13                            None  ...  POLYGON ((13.50473 52.61964, 13.50461 52.61959...\n",
              "\n",
              "[477 rows x 4 columns]"
            ]
          },
          "metadata": {
            "tags": []
          },
          "execution_count": 9
        }
      ]
    },
    {
      "cell_type": "markdown",
      "metadata": {
        "id": "51RE6zfxk6kg",
        "colab_type": "text"
      },
      "source": [
        "There are some rows that geographically do not fit in our area of interest (Bundesland Sachsen Anhalt etc.). However, they will be automatically dismissed in the following steps.\n",
        "\n",
        "\n",
        "\n"
      ]
    },
    {
      "cell_type": "markdown",
      "metadata": {
        "id": "eDBs6xNaEqsQ",
        "colab_type": "text"
      },
      "source": [
        "## Mergeing Demographic Statistical Data Frame and GeoData Frame\n",
        "\n",
        "To connect the information on geometry and the data referring to the growth, I'm connecting frames. To do so, I need to merge them by a common column: the community identification number (Amtlicher Gemeindeschlüssel). As this has a different column name in data frame containing the geometry, I'm renameing the column first.\n"
      ]
    },
    {
      "cell_type": "code",
      "metadata": {
        "id": "Vew08Qk7FJtB",
        "colab_type": "code",
        "colab": {
          "base_uri": "https://localhost:8080/",
          "height": 36
        },
        "outputId": "ebf02c8e-65ab-4691-ea33-5ba847adab8a"
      },
      "source": [
        "#renameing the column\n",
        "BerlinBrandenburg_Geodata.rename(columns={'de:amtlicher_gemeindeschluessel':'community identification number'}, inplace=True)\n",
        " \n",
        "print(BerlinBrandenburg_Geodata.columns)"
      ],
      "execution_count": null,
      "outputs": [
        {
          "output_type": "stream",
          "text": [
            "Index(['community identification number', 'name', 'admin_level', 'geometry'], dtype='object')\n"
          ],
          "name": "stdout"
        }
      ]
    },
    {
      "cell_type": "code",
      "metadata": {
        "id": "XF-HaAkHSPO8",
        "colab_type": "code",
        "colab": {
          "base_uri": "https://localhost:8080/",
          "height": 673
        },
        "outputId": "79c6d42a-e109-4cab-dfd5-0b7bec6f0f1d"
      },
      "source": [
        "# change the data type of \"community id\" in Geodata-Frame\n",
        "BerlinBrandenburg_Geodata['community identification number']= BerlinBrandenburg_Geodata['community identification number'].astype(float)\n",
        "\n",
        "BerlinBrandenburg_Geodata.info()\n",
        "BerlinBrandenburg_growthdata.info()\n"
      ],
      "execution_count": null,
      "outputs": [
        {
          "output_type": "stream",
          "text": [
            "<class 'geopandas.geodataframe.GeoDataFrame'>\n",
            "Int64Index: 477 entries, 0 to 13\n",
            "Data columns (total 4 columns):\n",
            " #   Column                           Non-Null Count  Dtype   \n",
            "---  ------                           --------------  -----   \n",
            " 0   community identification number  461 non-null    float64 \n",
            " 1   name                             477 non-null    object  \n",
            " 2   admin_level                      477 non-null    object  \n",
            " 3   geometry                         477 non-null    geometry\n",
            "dtypes: float64(1), geometry(1), object(2)\n",
            "memory usage: 18.6+ KB\n",
            "<class 'pandas.core.frame.DataFrame'>\n",
            "RangeIndex: 446 entries, 0 to 445\n",
            "Data columns (total 17 columns):\n",
            " #   Column                           Non-Null Count  Dtype \n",
            "---  ------                           --------------  ----- \n",
            " 0   community identification number  446 non-null    int64 \n",
            " 1   name                             446 non-null    object\n",
            " 2   administrative division          446 non-null    object\n",
            " 3   Landkreis                        446 non-null    object\n",
            " 4   Bundesland                       444 non-null    object\n",
            " 5   totalpopulation 2007             446 non-null    object\n",
            " 6   totalpopulation 2008             446 non-null    object\n",
            " 7   totalpopulation 2009             446 non-null    object\n",
            " 8   totalpopulation 2010             446 non-null    object\n",
            " 9   totalpopulation 2011             446 non-null    object\n",
            " 10  totalpopulation 2012             446 non-null    object\n",
            " 11  totalpopulation 2013             446 non-null    object\n",
            " 12  totalpopulation 2014             446 non-null    object\n",
            " 13  totalpopulation 2015             446 non-null    object\n",
            " 14  totalpopulation 2016             446 non-null    object\n",
            " 15  totalpopulation 2017             446 non-null    object\n",
            " 16  totalpopulation 2018             446 non-null    object\n",
            "dtypes: int64(1), object(16)\n",
            "memory usage: 59.4+ KB\n"
          ],
          "name": "stdout"
        }
      ]
    },
    {
      "cell_type": "code",
      "metadata": {
        "id": "1v8ShNhXI2Ar",
        "colab_type": "code",
        "colab": {
          "base_uri": "https://localhost:8080/",
          "height": 1000
        },
        "outputId": "9b0c5be8-9721-4900-8d28-ea5a40f32095"
      },
      "source": [
        "# merge two data frame\n",
        "BrandenburgBerlin_df = BerlinBrandenburg_Geodata.merge(BerlinBrandenburg_growthdata, on='community identification number')\n",
        "# and delete one redundant \"name\"-column\n",
        "BrandenburgBerlin_df = BrandenburgBerlin_df.drop(columns=\"name_x\")\n",
        "BrandenburgBerlin_df.rename(columns={'name_y':'name'}, inplace=True)\n",
        "\n",
        "BrandenburgBerlin_df = gpd.GeoDataFrame(BrandenburgBerlin_df)\n",
        "BrandenburgBerlin_df"
      ],
      "execution_count": null,
      "outputs": [
        {
          "output_type": "execute_result",
          "data": {
            "text/html": [
              "<div>\n",
              "<style scoped>\n",
              "    .dataframe tbody tr th:only-of-type {\n",
              "        vertical-align: middle;\n",
              "    }\n",
              "\n",
              "    .dataframe tbody tr th {\n",
              "        vertical-align: top;\n",
              "    }\n",
              "\n",
              "    .dataframe thead th {\n",
              "        text-align: right;\n",
              "    }\n",
              "</style>\n",
              "<table border=\"1\" class=\"dataframe\">\n",
              "  <thead>\n",
              "    <tr style=\"text-align: right;\">\n",
              "      <th></th>\n",
              "      <th>community identification number</th>\n",
              "      <th>admin_level</th>\n",
              "      <th>geometry</th>\n",
              "      <th>name</th>\n",
              "      <th>administrative division</th>\n",
              "      <th>Landkreis</th>\n",
              "      <th>Bundesland</th>\n",
              "      <th>totalpopulation 2007</th>\n",
              "      <th>totalpopulation 2008</th>\n",
              "      <th>totalpopulation 2009</th>\n",
              "      <th>totalpopulation 2010</th>\n",
              "      <th>totalpopulation 2011</th>\n",
              "      <th>totalpopulation 2012</th>\n",
              "      <th>totalpopulation 2013</th>\n",
              "      <th>totalpopulation 2014</th>\n",
              "      <th>totalpopulation 2015</th>\n",
              "      <th>totalpopulation 2016</th>\n",
              "      <th>totalpopulation 2017</th>\n",
              "      <th>totalpopulation 2018</th>\n",
              "    </tr>\n",
              "  </thead>\n",
              "  <tbody>\n",
              "    <tr>\n",
              "      <th>0</th>\n",
              "      <td>12.0</td>\n",
              "      <td>4</td>\n",
              "      <td>MULTIPOLYGON (((12.26099 52.22969, 12.26174 52...</td>\n",
              "      <td>Brandenburg</td>\n",
              "      <td>Bundesland</td>\n",
              "      <td>Brandenburg</td>\n",
              "      <td>Brandenburg</td>\n",
              "      <td>2535737</td>\n",
              "      <td>2522493</td>\n",
              "      <td>2511525</td>\n",
              "      <td>2503273</td>\n",
              "      <td>2453180</td>\n",
              "      <td>2449511</td>\n",
              "      <td>2449193</td>\n",
              "      <td>2457872</td>\n",
              "      <td>2484826</td>\n",
              "      <td>2494648</td>\n",
              "      <td>2504040</td>\n",
              "      <td>2511917</td>\n",
              "    </tr>\n",
              "    <tr>\n",
              "      <th>1</th>\n",
              "      <td>12.0</td>\n",
              "      <td>4</td>\n",
              "      <td>MULTIPOLYGON (((12.26099 52.22969, 12.26174 52...</td>\n",
              "      <td>Reinickendorf</td>\n",
              "      <td>Bezirk</td>\n",
              "      <td>Berlin</td>\n",
              "      <td>Berlin</td>\n",
              "      <td>243000</td>\n",
              "      <td>242900</td>\n",
              "      <td>241400</td>\n",
              "      <td>242500</td>\n",
              "      <td>239400</td>\n",
              "      <td>241900</td>\n",
              "      <td>245000</td>\n",
              "      <td>248300</td>\n",
              "      <td>250700</td>\n",
              "      <td>254500</td>\n",
              "      <td>259400</td>\n",
              "      <td>260400</td>\n",
              "    </tr>\n",
              "    <tr>\n",
              "      <th>2</th>\n",
              "      <td>12.0</td>\n",
              "      <td>4</td>\n",
              "      <td>MULTIPOLYGON (((12.26099 52.22969, 12.26174 52...</td>\n",
              "      <td>Brandenburg</td>\n",
              "      <td>Bundesland</td>\n",
              "      <td>Brandenburg</td>\n",
              "      <td>Brandenburg</td>\n",
              "      <td>2535737</td>\n",
              "      <td>2522493</td>\n",
              "      <td>2511525</td>\n",
              "      <td>2503273</td>\n",
              "      <td>2453180</td>\n",
              "      <td>2449511</td>\n",
              "      <td>2449193</td>\n",
              "      <td>2457872</td>\n",
              "      <td>2484826</td>\n",
              "      <td>2494648</td>\n",
              "      <td>2504040</td>\n",
              "      <td>2511917</td>\n",
              "    </tr>\n",
              "    <tr>\n",
              "      <th>3</th>\n",
              "      <td>12.0</td>\n",
              "      <td>4</td>\n",
              "      <td>MULTIPOLYGON (((12.26099 52.22969, 12.26174 52...</td>\n",
              "      <td>Reinickendorf</td>\n",
              "      <td>Bezirk</td>\n",
              "      <td>Berlin</td>\n",
              "      <td>Berlin</td>\n",
              "      <td>243000</td>\n",
              "      <td>242900</td>\n",
              "      <td>241400</td>\n",
              "      <td>242500</td>\n",
              "      <td>239400</td>\n",
              "      <td>241900</td>\n",
              "      <td>245000</td>\n",
              "      <td>248300</td>\n",
              "      <td>250700</td>\n",
              "      <td>254500</td>\n",
              "      <td>259400</td>\n",
              "      <td>260400</td>\n",
              "    </tr>\n",
              "    <tr>\n",
              "      <th>4</th>\n",
              "      <td>11000000.0</td>\n",
              "      <td>4</td>\n",
              "      <td>MULTIPOLYGON (((13.50344 52.61899, 13.50365 52...</td>\n",
              "      <td>Berlin</td>\n",
              "      <td>Bundesland</td>\n",
              "      <td>Berlin</td>\n",
              "      <td>Berlin</td>\n",
              "      <td>3416255</td>\n",
              "      <td>3431675</td>\n",
              "      <td>3442675</td>\n",
              "      <td>3460725</td>\n",
              "      <td>3326002</td>\n",
              "      <td>3375222</td>\n",
              "      <td>3421829</td>\n",
              "      <td>3469849</td>\n",
              "      <td>3520031</td>\n",
              "      <td>3574830</td>\n",
              "      <td>3613495</td>\n",
              "      <td>3644826</td>\n",
              "    </tr>\n",
              "    <tr>\n",
              "      <th>...</th>\n",
              "      <td>...</td>\n",
              "      <td>...</td>\n",
              "      <td>...</td>\n",
              "      <td>...</td>\n",
              "      <td>...</td>\n",
              "      <td>...</td>\n",
              "      <td>...</td>\n",
              "      <td>...</td>\n",
              "      <td>...</td>\n",
              "      <td>...</td>\n",
              "      <td>...</td>\n",
              "      <td>...</td>\n",
              "      <td>...</td>\n",
              "      <td>...</td>\n",
              "      <td>...</td>\n",
              "      <td>...</td>\n",
              "      <td>...</td>\n",
              "      <td>...</td>\n",
              "      <td>...</td>\n",
              "    </tr>\n",
              "    <tr>\n",
              "      <th>416</th>\n",
              "      <td>12061492.0</td>\n",
              "      <td>8</td>\n",
              "      <td>POLYGON ((13.63068 52.16021, 13.63177 52.16114...</td>\n",
              "      <td>Teupitz</td>\n",
              "      <td>amtsangehörige Gemeinde</td>\n",
              "      <td>Dahme-Spreewald</td>\n",
              "      <td>Brandenburg</td>\n",
              "      <td>1890</td>\n",
              "      <td>1870</td>\n",
              "      <td>1844</td>\n",
              "      <td>1831</td>\n",
              "      <td>1802</td>\n",
              "      <td>1786</td>\n",
              "      <td>1785</td>\n",
              "      <td>1812</td>\n",
              "      <td>1813</td>\n",
              "      <td>1868</td>\n",
              "      <td>1880</td>\n",
              "      <td>1917</td>\n",
              "    </tr>\n",
              "    <tr>\n",
              "      <th>417</th>\n",
              "      <td>12061448.0</td>\n",
              "      <td>8</td>\n",
              "      <td>POLYGON ((13.65947 52.13377, 13.65985 52.13463...</td>\n",
              "      <td>Schwerin</td>\n",
              "      <td>amtsangehörige Gemeinde</td>\n",
              "      <td>Dahme-Spreewald</td>\n",
              "      <td>Brandenburg</td>\n",
              "      <td>602</td>\n",
              "      <td>613</td>\n",
              "      <td>637</td>\n",
              "      <td>630</td>\n",
              "      <td>780</td>\n",
              "      <td>794</td>\n",
              "      <td>792</td>\n",
              "      <td>815</td>\n",
              "      <td>814</td>\n",
              "      <td>815</td>\n",
              "      <td>820</td>\n",
              "      <td>847</td>\n",
              "    </tr>\n",
              "    <tr>\n",
              "      <th>418</th>\n",
              "      <td>12061192.0</td>\n",
              "      <td>8</td>\n",
              "      <td>POLYGON ((13.59740 52.16237, 13.60183 52.17165...</td>\n",
              "      <td>GroßKöris</td>\n",
              "      <td>amtsangehörige Gemeinde</td>\n",
              "      <td>Dahme-Spreewald</td>\n",
              "      <td>Brandenburg</td>\n",
              "      <td>2271</td>\n",
              "      <td>2334</td>\n",
              "      <td>2340</td>\n",
              "      <td>2326</td>\n",
              "      <td>2224</td>\n",
              "      <td>2209</td>\n",
              "      <td>2209</td>\n",
              "      <td>2243</td>\n",
              "      <td>2253</td>\n",
              "      <td>2265</td>\n",
              "      <td>2294</td>\n",
              "      <td>2338</td>\n",
              "    </tr>\n",
              "    <tr>\n",
              "      <th>419</th>\n",
              "      <td>12061344.0</td>\n",
              "      <td>8</td>\n",
              "      <td>POLYGON ((13.76162 52.14211, 13.76233 52.14214...</td>\n",
              "      <td>Münchehofe</td>\n",
              "      <td>amtsangehörige Gemeinde</td>\n",
              "      <td>Dahme-Spreewald</td>\n",
              "      <td>Brandenburg</td>\n",
              "      <td>528</td>\n",
              "      <td>514</td>\n",
              "      <td>498</td>\n",
              "      <td>492</td>\n",
              "      <td>482</td>\n",
              "      <td>486</td>\n",
              "      <td>477</td>\n",
              "      <td>481</td>\n",
              "      <td>469</td>\n",
              "      <td>470</td>\n",
              "      <td>472</td>\n",
              "      <td>474</td>\n",
              "    </tr>\n",
              "    <tr>\n",
              "      <th>420</th>\n",
              "      <td>12061328.0</td>\n",
              "      <td>8</td>\n",
              "      <td>POLYGON ((13.75745 52.12821, 13.75747 52.12769...</td>\n",
              "      <td>MärkischBuchholz</td>\n",
              "      <td>amtsangehörige Gemeinde</td>\n",
              "      <td>Dahme-Spreewald</td>\n",
              "      <td>Brandenburg</td>\n",
              "      <td>818</td>\n",
              "      <td>805</td>\n",
              "      <td>793</td>\n",
              "      <td>780</td>\n",
              "      <td>759</td>\n",
              "      <td>771</td>\n",
              "      <td>769</td>\n",
              "      <td>740</td>\n",
              "      <td>773</td>\n",
              "      <td>786</td>\n",
              "      <td>804</td>\n",
              "      <td>834</td>\n",
              "    </tr>\n",
              "  </tbody>\n",
              "</table>\n",
              "<p>421 rows × 19 columns</p>\n",
              "</div>"
            ],
            "text/plain": [
              "     community identification number  ... totalpopulation 2018\n",
              "0                               12.0  ...              2511917\n",
              "1                               12.0  ...               260400\n",
              "2                               12.0  ...              2511917\n",
              "3                               12.0  ...               260400\n",
              "4                         11000000.0  ...              3644826\n",
              "..                               ...  ...                  ...\n",
              "416                       12061492.0  ...                 1917\n",
              "417                       12061448.0  ...                  847\n",
              "418                       12061192.0  ...                 2338\n",
              "419                       12061344.0  ...                  474\n",
              "420                       12061328.0  ...                  834\n",
              "\n",
              "[421 rows x 19 columns]"
            ]
          },
          "metadata": {
            "tags": []
          },
          "execution_count": 172
        }
      ]
    },
    {
      "cell_type": "markdown",
      "metadata": {
        "id": "FRBPOvueZNbK",
        "colab_type": "text"
      },
      "source": [
        "# Visualizations"
      ]
    },
    {
      "cell_type": "code",
      "metadata": {
        "id": "T0AYnPPNZW0q",
        "colab_type": "code",
        "colab": {
          "base_uri": "https://localhost:8080/",
          "height": 277
        },
        "outputId": "618f1e28-871f-4909-b47d-c9670a301cdf"
      },
      "source": [
        "#playing around\n",
        "BrandenburgBerlin_df.plot()"
      ],
      "execution_count": null,
      "outputs": [
        {
          "output_type": "execute_result",
          "data": {
            "text/plain": [
              "<matplotlib.axes._subplots.AxesSubplot at 0x7f6cf298e470>"
            ]
          },
          "metadata": {
            "tags": []
          },
          "execution_count": 175
        },
        {
          "output_type": "display_data",
          "data": {
            "image/png": "[encoded data removed]",
            "text/plain": [
              "<Figure size 432x288 with 1 Axes>"
            ]
          },
          "metadata": {
            "tags": [],
            "needs_background": "light"
          }
        }
      ]
    },
    {
      "cell_type": "code",
      "metadata": {
        "id": "wcNR5rRng73c",
        "colab_type": "code",
        "colab": {
          "base_uri": "https://localhost:8080/",
          "height": 270
        },
        "outputId": "b5596350-cd90-4ef2-ae57-800d5f4fc142"
      },
      "source": [
        "#trying out a Choropleth map\n",
        "\n",
        "alt.Chart(BrandenburgBerlin_df).mark_geoshape().encode(\n",
        "    color=alt.Color('totalpopulation 2018', scale=alt.Scale(type=\"log\", domain=[1,1000] )),\n",
        "    tooltip=['name']\n",
        ").project (\n",
        "    ).properties(\n",
        "    width=1800,\n",
        "    height=1600\n",
        ")"
      ],
      "execution_count": null,
      "outputs": [
        {
          "output_type": "error",
          "ename": "NameError",
          "evalue": "ignored",
          "traceback": [
            "\u001b[0;31m---------------------------------------------------------------------------\u001b[0m",
            "\u001b[0;31mNameError\u001b[0m                                 Traceback (most recent call last)",
            "\u001b[0;32m<ipython-input-1-b592bd6fb822>\u001b[0m in \u001b[0;36m<module>\u001b[0;34m()\u001b[0m\n\u001b[1;32m      1\u001b[0m \u001b[0;31m#trying out a Choropleth map\u001b[0m\u001b[0;34m\u001b[0m\u001b[0;34m\u001b[0m\u001b[0;34m\u001b[0m\u001b[0m\n\u001b[1;32m      2\u001b[0m \u001b[0;34m\u001b[0m\u001b[0m\n\u001b[0;32m----> 3\u001b[0;31m alt.Chart(BrandenburgBerlin_df).mark_geoshape().encode(\n\u001b[0m\u001b[1;32m      4\u001b[0m     \u001b[0mcolor\u001b[0m\u001b[0;34m=\u001b[0m\u001b[0malt\u001b[0m\u001b[0;34m.\u001b[0m\u001b[0mColor\u001b[0m\u001b[0;34m(\u001b[0m\u001b[0;34m'totalpopulation 2018'\u001b[0m\u001b[0;34m,\u001b[0m \u001b[0mscale\u001b[0m\u001b[0;34m=\u001b[0m\u001b[0malt\u001b[0m\u001b[0;34m.\u001b[0m\u001b[0mScale\u001b[0m\u001b[0;34m(\u001b[0m\u001b[0mtype\u001b[0m\u001b[0;34m=\u001b[0m\u001b[0;34m\"log\"\u001b[0m\u001b[0;34m,\u001b[0m \u001b[0mdomain\u001b[0m\u001b[0;34m=\u001b[0m\u001b[0;34m[\u001b[0m\u001b[0;36m1\u001b[0m\u001b[0;34m,\u001b[0m\u001b[0;36m1000\u001b[0m\u001b[0;34m]\u001b[0m \u001b[0;34m)\u001b[0m\u001b[0;34m)\u001b[0m\u001b[0;34m,\u001b[0m\u001b[0;34m\u001b[0m\u001b[0;34m\u001b[0m\u001b[0m\n\u001b[1;32m      5\u001b[0m     \u001b[0mtooltip\u001b[0m\u001b[0;34m=\u001b[0m\u001b[0;34m[\u001b[0m\u001b[0;34m'name'\u001b[0m\u001b[0;34m]\u001b[0m\u001b[0;34m\u001b[0m\u001b[0;34m\u001b[0m\u001b[0m\n",
            "\u001b[0;31mNameError\u001b[0m: name 'alt' is not defined"
          ]
        }
      ]
    }
  ]
}